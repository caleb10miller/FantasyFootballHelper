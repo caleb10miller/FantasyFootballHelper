{
 "cells": [
  {
   "cell_type": "code",
   "execution_count": 1,
   "metadata": {},
   "outputs": [],
   "source": [
    "import pandas as pd \n",
    "df = pd.read_csv('nfl_merged_wide_format.csv')"
   ]
  },
  {
   "cell_type": "code",
   "execution_count": 3,
   "metadata": {},
   "outputs": [
    {
     "name": "stdout",
     "output_type": "stream",
     "text": [
      "970\n"
     ]
    }
   ],
   "source": [
    "print(len(df))"
   ]
  },
  {
   "cell_type": "code",
   "execution_count": 4,
   "metadata": {},
   "outputs": [
    {
     "name": "stdout",
     "output_type": "stream",
     "text": [
      "['PHI' 'ARI' nan 'GNB' 'NOR' 'MIN' 'DEN' 'MIA' 'IND' 'LAR' 'CLE' '2TM'\n",
      " 'LVR' 'DET' 'BAL' 'ATL' 'PIT' 'WAS' 'LAC' 'TEN' 'NWE' 'TAM' 'KAN' 'NYJ'\n",
      " 'HOU' 'SFO' 'CIN' 'DAL' 'BUF' 'CHI' 'JAX' 'SEA' 'CAR' 'NYG' '3TM']\n"
     ]
    }
   ],
   "source": [
    "unique_values = df['2022 Team'].unique()\n",
    "\n",
    "print(unique_values)\n"
   ]
  },
  {
   "cell_type": "code",
   "execution_count": 5,
   "metadata": {},
   "outputs": [
    {
     "name": "stdout",
     "output_type": "stream",
     "text": [
      "['PHI' nan 'CIN' 'NOR' 'GNB' 'NYJ' 'CAR' 'DEN' 'LVR' 'MIA' 'IND' 'WAS'\n",
      " 'LAC' 'MIN' 'PIT' 'CLE' 'DET' 'HOU' 'ARI' 'ATL' 'LAR' 'NWE' 'TAM' 'BAL'\n",
      " 'KAN' 'DAL' 'SFO' 'JAX' 'BUF' 'CHI' '2TM' 'TEN' 'SEA' 'NYG']\n"
     ]
    }
   ],
   "source": [
    "unique_values = df['2023 Team'].unique()\n",
    "\n",
    "print(unique_values)\n"
   ]
  },
  {
   "cell_type": "code",
   "execution_count": 6,
   "metadata": {},
   "outputs": [
    {
     "name": "stdout",
     "output_type": "stream",
     "text": [
      "['PHI' nan 'CIN' 'NOR' 'GNB' 'NYJ' 'CAR' 'DEN' 'LVR' 'MIA' 'IND' 'WAS'\n",
      " 'LAC' 'MIN' 'PIT' 'CLE' 'DET' 'HOU' 'ARI' 'ATL' 'LAR' 'NWE' 'TAM' 'BAL'\n",
      " 'KAN' 'DAL' 'SFO' 'JAX' 'BUF' 'CHI' '2TM' 'TEN' 'SEA' 'NYG']\n"
     ]
    }
   ],
   "source": [
    "unique_values = df['2023 Team'].unique()\n",
    "\n",
    "print(unique_values)\n"
   ]
  },
  {
   "cell_type": "code",
   "execution_count": 7,
   "metadata": {},
   "outputs": [
    {
     "name": "stdout",
     "output_type": "stream",
     "text": [
      "['WR' nan 'RB' 'QB' 'TE' 'K' 'DEF']\n"
     ]
    }
   ],
   "source": [
    "unique_values = df['2022 Position'].unique()\n",
    "\n",
    "print(unique_values)\n"
   ]
  },
  {
   "cell_type": "code",
   "execution_count": 8,
   "metadata": {},
   "outputs": [
    {
     "name": "stdout",
     "output_type": "stream",
     "text": [
      "['WR' nan 'QB' 'RB' 'TE' 'K' 'DEF']\n"
     ]
    }
   ],
   "source": [
    "unique_values = df['2023 Position'].unique()\n",
    "\n",
    "print(unique_values)\n"
   ]
  },
  {
   "cell_type": "code",
   "execution_count": 9,
   "metadata": {},
   "outputs": [
    {
     "name": "stdout",
     "output_type": "stream",
     "text": [
      "['WR' nan 'TE' 'K' 'RB' 'QB' 'DEF']\n"
     ]
    }
   ],
   "source": [
    "unique_values = df['2024 Position'].unique()\n",
    "\n",
    "print(unique_values)\n"
   ]
  },
  {
   "cell_type": "code",
   "execution_count": 16,
   "metadata": {},
   "outputs": [
    {
     "name": "stdout",
     "output_type": "stream",
     "text": [
      "       2022 ESPN ADP  2022 Sleeper ADP  2022 NFL ADP  2022 RTSports ADP  \\\n",
      "count     225.000000        243.000000    291.000000         277.000000   \n",
      "mean      113.342222        122.440329    147.347079         140.252708   \n",
      "std        65.551801         70.924820     85.952552          81.316529   \n",
      "min         1.000000          1.000000      1.000000           1.000000   \n",
      "25%        57.000000         61.500000     73.500000          70.000000   \n",
      "50%       113.000000        122.000000    146.000000         140.000000   \n",
      "75%       170.000000        182.500000    220.500000         211.000000   \n",
      "max       227.000000        246.000000    300.000000         280.000000   \n",
      "\n",
      "       2022 Average ADP  2022 Positional ADP  \n",
      "count        686.000000           686.000000  \n",
      "mean         232.564140            68.088921  \n",
      "std           92.790386            35.985268  \n",
      "min            1.000000             1.000000  \n",
      "25%          174.050000            29.000000  \n",
      "50%          301.000000            97.000000  \n",
      "75%          301.000000            97.000000  \n",
      "max          301.000000            97.000000  \n"
     ]
    }
   ],
   "source": [
    "columns = [\n",
    "    '2022 ESPN ADP', '2022 Sleeper ADP', '2022 NFL ADP', \n",
    "    '2022 RTSports ADP', '2022 Average ADP', '2022 Positional ADP'\n",
    "]\n",
    "\n",
    "# Get descriptive statistics\n",
    "descriptive_stats = df[columns].describe()\n",
    "print(descriptive_stats)\n"
   ]
  },
  {
   "cell_type": "code",
   "execution_count": 17,
   "metadata": {},
   "outputs": [
    {
     "name": "stdout",
     "output_type": "stream",
     "text": [
      "       2023 ESPN ADP  2023 Sleeper ADP  2023 NFL ADP  2023 RTSports ADP  \\\n",
      "count     402.000000        267.000000    289.000000         271.000000   \n",
      "mean      221.472637        135.528090    146.892734         136.590406   \n",
      "std       140.942200         79.498062     85.795414          79.002239   \n",
      "min         1.000000          1.000000      1.000000           1.000000   \n",
      "25%       101.250000         67.500000     73.000000          68.500000   \n",
      "50%       202.500000        134.000000    146.000000         136.000000   \n",
      "75%       345.500000        201.500000    219.000000         204.500000   \n",
      "max       499.000000        302.000000    300.000000         273.000000   \n",
      "\n",
      "       2023 Average ADP  2023 Positional ADP  \n",
      "count        653.000000           653.000000  \n",
      "mean         301.764472            78.336907  \n",
      "std          165.399939            57.413711  \n",
      "min            1.000000             1.000000  \n",
      "25%          168.300000            26.000000  \n",
      "50%          284.000000            62.000000  \n",
      "75%          500.000000           154.000000  \n",
      "max          500.000000           154.000000  \n"
     ]
    }
   ],
   "source": [
    "columns = [\n",
    "    '2023 ESPN ADP', '2023 Sleeper ADP', '2023 NFL ADP', \n",
    "    '2023 RTSports ADP', '2023 Average ADP', '2023 Positional ADP'\n",
    "]\n",
    "\n",
    "# Get descriptive statistics\n",
    "descriptive_stats = df[columns].describe()\n",
    "print(descriptive_stats)\n"
   ]
  },
  {
   "cell_type": "code",
   "execution_count": 18,
   "metadata": {},
   "outputs": [
    {
     "name": "stdout",
     "output_type": "stream",
     "text": [
      "       2024 ESPN ADP  2024 Sleeper ADP  2024 NFL ADP  2024 RTSports ADP  \\\n",
      "count     383.000000        290.000000    601.000000         268.000000   \n",
      "mean      214.187990        149.665517    345.792013         135.518657   \n",
      "std       139.002679         89.449693    232.401632          78.597655   \n",
      "min         1.000000          1.000000      1.000000           1.000000   \n",
      "25%        96.500000         73.250000    151.000000          67.750000   \n",
      "50%       195.000000        146.500000    313.000000         135.500000   \n",
      "75%       323.000000        223.750000    509.000000         202.250000   \n",
      "max       499.000000        326.000000    899.000000         272.000000   \n",
      "\n",
      "       2024 Average ADP  2024 Positional ADP  \n",
      "count        663.000000           663.000000  \n",
      "mean         374.246456            79.601810  \n",
      "std          260.774983            64.238731  \n",
      "min            1.000000             1.000000  \n",
      "25%          169.800000            27.000000  \n",
      "50%          316.000000            63.000000  \n",
      "75%          529.250000           115.000000  \n",
      "max          900.000000           211.000000  \n"
     ]
    }
   ],
   "source": [
    "columns = [\n",
    "    '2024 ESPN ADP', '2024 Sleeper ADP', '2024 NFL ADP', \n",
    "    '2024 RTSports ADP', '2024 Average ADP', '2024 Positional ADP'\n",
    "]\n",
    "\n",
    "# Get descriptive statistics\n",
    "descriptive_stats = df[columns].describe()\n",
    "print(descriptive_stats)\n"
   ]
  },
  {
   "cell_type": "code",
   "execution_count": 19,
   "metadata": {},
   "outputs": [
    {
     "name": "stdout",
     "output_type": "stream",
     "text": [
      "       2024 Games Played  2024 Games Started\n",
      "count         663.000000          663.000000\n",
      "mean           12.220211            5.675716\n",
      "std             5.222518            6.172896\n",
      "min             1.000000            0.000000\n",
      "25%             8.000000            0.000000\n",
      "50%            14.000000            3.000000\n",
      "75%            17.000000           11.000000\n",
      "max            18.000000           17.000000\n"
     ]
    }
   ],
   "source": [
    "columns = [\n",
    "    '2024 Games Played', '2024 Games Started'\n",
    "]\n",
    "\n",
    "# Get descriptive statistics\n",
    "descriptive_stats = df[columns].describe()\n",
    "print(descriptive_stats)\n"
   ]
  },
  {
   "cell_type": "code",
   "execution_count": 20,
   "metadata": {},
   "outputs": [
    {
     "name": "stdout",
     "output_type": "stream",
     "text": [
      "       2023 Games Played  2023 Games Started\n",
      "count         653.000000          653.000000\n",
      "mean           12.643185            5.799387\n",
      "std             4.979384            6.260785\n",
      "min             1.000000            0.000000\n",
      "25%             9.000000            0.000000\n",
      "50%            15.000000            3.000000\n",
      "75%            17.000000           11.000000\n",
      "max            17.000000           17.000000\n"
     ]
    }
   ],
   "source": [
    "columns = [\n",
    "    '2023 Games Played', '2023 Games Started'\n",
    "]\n",
    "\n",
    "# Get descriptive statistics\n",
    "descriptive_stats = df[columns].describe()\n",
    "print(descriptive_stats)\n"
   ]
  },
  {
   "cell_type": "code",
   "execution_count": 21,
   "metadata": {},
   "outputs": [
    {
     "name": "stdout",
     "output_type": "stream",
     "text": [
      "       2022 Games Played  2022 Games Started\n",
      "count         686.000000          686.000000\n",
      "mean           11.959184            5.476676\n",
      "std             5.280574            6.136540\n",
      "min             1.000000            0.000000\n",
      "25%             8.000000            0.000000\n",
      "50%            14.000000            2.000000\n",
      "75%            17.000000           11.000000\n",
      "max            17.000000           17.000000\n"
     ]
    }
   ],
   "source": [
    "columns = [\n",
    "    '2022 Games Played', '2022 Games Started'\n",
    "]\n",
    "\n",
    "# Get descriptive statistics\n",
    "descriptive_stats = df[columns].describe()\n",
    "print(descriptive_stats)\n"
   ]
  },
  {
   "cell_type": "code",
   "execution_count": 23,
   "metadata": {},
   "outputs": [
    {
     "name": "stdout",
     "output_type": "stream",
     "text": [
      "       2022 Passing Attempts  2022 Passing Completions  \\\n",
      "count             113.000000                113.000000   \n",
      "mean              159.902655                102.699115   \n",
      "std               204.670422                134.771161   \n",
      "min                 0.000000                  0.000000   \n",
      "25%                 2.000000                  1.000000   \n",
      "50%                61.000000                 38.000000   \n",
      "75%               303.000000                192.000000   \n",
      "max               733.000000                490.000000   \n",
      "\n",
      "       2022 Passing Touchdowns  2022 Interceptions Thrown  \n",
      "count               113.000000                 113.000000  \n",
      "mean                  6.637168                   3.699115  \n",
      "std                   9.724841                   4.292612  \n",
      "min                   0.000000                   0.000000  \n",
      "25%                   0.000000                   0.000000  \n",
      "50%                   1.000000                   2.000000  \n",
      "75%                  12.000000                   6.000000  \n",
      "max                  41.000000                  15.000000  \n"
     ]
    }
   ],
   "source": [
    "columns = [\n",
    "    '2022 Passing Attempts', '2022 Passing Completions', '2022 Passing Touchdowns', '2022 Interceptions Thrown'\n",
    "]\n",
    "\n",
    "# Get descriptive statistics\n",
    "descriptive_stats = df[columns].describe()\n",
    "print(descriptive_stats)\n"
   ]
  },
  {
   "cell_type": "code",
   "execution_count": 24,
   "metadata": {},
   "outputs": [
    {
     "name": "stdout",
     "output_type": "stream",
     "text": [
      "       2023 Passing Attempts  2023 Passing Completions  \\\n",
      "count             114.000000                114.000000   \n",
      "mean              160.649123                103.570175   \n",
      "std               203.324188                133.354804   \n",
      "min                 0.000000                  0.000000   \n",
      "25%                 1.000000                  1.000000   \n",
      "50%                46.500000                 26.500000   \n",
      "75%               300.250000                194.750000   \n",
      "max               612.000000                410.000000   \n",
      "\n",
      "       2023 Passing Touchdowns  2023 Interceptions Thrown  \n",
      "count               114.000000                 114.000000  \n",
      "mean                  6.614035                   3.771930  \n",
      "std                   9.552379                   4.713068  \n",
      "min                   0.000000                   0.000000  \n",
      "25%                   0.000000                   0.000000  \n",
      "50%                   2.000000                   1.000000  \n",
      "75%                  10.000000                   7.000000  \n",
      "max                  36.000000                  21.000000  \n"
     ]
    }
   ],
   "source": [
    "columns = [\n",
    "    '2023 Passing Attempts', '2023 Passing Completions', '2023 Passing Touchdowns', '2023 Interceptions Thrown'\n",
    "]\n",
    "\n",
    "# Get descriptive statistics\n",
    "descriptive_stats = df[columns].describe()\n",
    "print(descriptive_stats)\n"
   ]
  },
  {
   "cell_type": "code",
   "execution_count": 25,
   "metadata": {},
   "outputs": [
    {
     "name": "stdout",
     "output_type": "stream",
     "text": [
      "       2024 Passing Attempts  2024 Passing Completions  \\\n",
      "count             107.000000                107.000000   \n",
      "mean              166.448598                108.682243   \n",
      "std               203.405777                136.053305   \n",
      "min                 0.000000                  0.000000   \n",
      "25%                 1.000000                  1.000000   \n",
      "50%                42.000000                 27.000000   \n",
      "75%               303.500000                189.500000   \n",
      "max               652.000000                460.000000   \n",
      "\n",
      "       2024 Passing Touchdowns  2024 Interceptions Thrown  \n",
      "count               107.000000                 107.000000  \n",
      "mean                  7.560748                   3.616822  \n",
      "std                  10.864671                   4.630997  \n",
      "min                   0.000000                   0.000000  \n",
      "25%                   0.000000                   0.000000  \n",
      "50%                   2.000000                   1.000000  \n",
      "75%                  12.500000                   7.000000  \n",
      "max                  43.000000                  16.000000  \n"
     ]
    }
   ],
   "source": [
    "columns = [\n",
    "    '2024 Passing Attempts', '2024 Passing Completions', '2024 Passing Touchdowns', '2024 Interceptions Thrown'\n",
    "]\n",
    "\n",
    "# Get descriptive statistics\n",
    "descriptive_stats = df[columns].describe()\n",
    "print(descriptive_stats)"
   ]
  },
  {
   "cell_type": "code",
   "execution_count": 26,
   "metadata": {},
   "outputs": [
    {
     "name": "stdout",
     "output_type": "stream",
     "text": [
      "       2024 Targets  2024 Receptions  2024 Receiving Touchdowns   2024 XP2\n",
      "count    566.000000       566.000000                 566.000000  22.000000\n",
      "mean      30.022968        20.517668                   1.420495   1.409091\n",
      "std       36.985113        25.335600                   2.399086   0.590326\n",
      "min        0.000000         0.000000                   0.000000   1.000000\n",
      "25%        2.000000         1.000000                   0.000000   1.000000\n",
      "50%       13.500000         9.000000                   0.000000   1.000000\n",
      "75%       49.000000        33.000000                   2.000000   2.000000\n",
      "max      175.000000       127.000000                  17.000000   3.000000\n"
     ]
    }
   ],
   "source": [
    "columns = [\n",
    "    '2024 Targets', '2024 Receptions', '2024 Receiving Touchdowns', '2024 XP2'\n",
    "]\n",
    "\n",
    "# Get descriptive statistics\n",
    "descriptive_stats = df[columns].describe()\n",
    "print(descriptive_stats)"
   ]
  },
  {
   "cell_type": "code",
   "execution_count": 27,
   "metadata": {},
   "outputs": [
    {
     "name": "stdout",
     "output_type": "stream",
     "text": [
      "       2023 Targets  2023 Receptions  2023 Receiving Touchdowns   2023 XP2\n",
      "count    561.000000       561.000000                 561.000000  23.000000\n",
      "mean      31.135472        21.023173                   1.342246   1.391304\n",
      "std       38.181982        25.937173                   2.212904   0.656376\n",
      "min        0.000000         0.000000                   0.000000   1.000000\n",
      "25%        2.000000         1.000000                   0.000000   1.000000\n",
      "50%       17.000000        11.000000                   0.000000   1.000000\n",
      "75%       44.000000        31.000000                   2.000000   2.000000\n",
      "max      181.000000       135.000000                  13.000000   3.000000\n"
     ]
    }
   ],
   "source": [
    "columns = [\n",
    "    '2023 Targets', '2023 Receptions', '2023 Receiving Touchdowns', '2023 XP2'\n",
    "]\n",
    "\n",
    "# Get descriptive statistics\n",
    "descriptive_stats = df[columns].describe()\n",
    "print(descriptive_stats)"
   ]
  },
  {
   "cell_type": "code",
   "execution_count": 28,
   "metadata": {},
   "outputs": [
    {
     "name": "stdout",
     "output_type": "stream",
     "text": [
      "       2022 Targets  2022 Receptions  2022 Receiving Touchdowns   2022 XP2\n",
      "count    586.000000       586.000000                 586.000000  24.000000\n",
      "mean      29.510239        19.790102                   1.278157   1.166667\n",
      "std       36.892323        24.834604                   2.107236   0.380693\n",
      "min        0.000000         0.000000                   0.000000   1.000000\n",
      "25%        2.000000         2.000000                   0.000000   1.000000\n",
      "50%       13.500000         9.000000                   0.000000   1.000000\n",
      "75%       43.750000        30.000000                   2.000000   1.000000\n",
      "max      184.000000       128.000000                  14.000000   2.000000\n"
     ]
    }
   ],
   "source": [
    "columns = [\n",
    "    '2022 Targets', '2022 Receptions', '2022 Receiving Touchdowns', '2022 XP2'\n",
    "]\n",
    "\n",
    "# Get descriptive statistics\n",
    "descriptive_stats = df[columns].describe()\n",
    "print(descriptive_stats)"
   ]
  },
  {
   "cell_type": "code",
   "execution_count": 38,
   "metadata": {},
   "outputs": [
    {
     "name": "stdout",
     "output_type": "stream",
     "text": [
      "       2022 Rushing Attempts  2022 Rushing Touchdowns  2022 Fumbles\n",
      "count             586.000000               586.000000    586.000000\n",
      "mean               25.179181                 0.831058      1.039249\n",
      "std                56.224188                 2.118811      1.969033\n",
      "min                 0.000000                 0.000000      0.000000\n",
      "25%                 0.000000                 0.000000      0.000000\n",
      "50%                 2.000000                 0.000000      0.000000\n",
      "75%                17.000000                 1.000000      1.000000\n",
      "max               349.000000                17.000000     16.000000\n"
     ]
    }
   ],
   "source": [
    "columns = [\n",
    "    '2022 Rushing Attempts', '2022 Rushing Touchdowns', '2022 Fumbles'\n",
    "]\n",
    "\n",
    "# Get descriptive statistics\n",
    "descriptive_stats = df[columns].describe()\n",
    "print(descriptive_stats)"
   ]
  },
  {
   "cell_type": "code",
   "execution_count": 39,
   "metadata": {},
   "outputs": [
    {
     "name": "stdout",
     "output_type": "stream",
     "text": [
      "       2023 Rushing Attempts  2023 Rushing Touchdowns  2023 Fumbles\n",
      "count             561.000000               561.000000    561.000000\n",
      "mean               26.012478                 0.837790      1.062389\n",
      "std                56.277960                 2.253663      2.004823\n",
      "min                 0.000000                 0.000000      0.000000\n",
      "25%                 0.000000                 0.000000      0.000000\n",
      "50%                 2.000000                 0.000000      0.000000\n",
      "75%                17.000000                 0.000000      1.000000\n",
      "max               280.000000                18.000000     14.000000\n"
     ]
    }
   ],
   "source": [
    "columns = [\n",
    "    '2023 Rushing Attempts', '2023 Rushing Touchdowns', '2023 Fumbles'\n",
    "]\n",
    "\n",
    "# Get descriptive statistics\n",
    "descriptive_stats = df[columns].describe()\n",
    "print(descriptive_stats)"
   ]
  },
  {
   "cell_type": "code",
   "execution_count": 40,
   "metadata": {},
   "outputs": [
    {
     "name": "stdout",
     "output_type": "stream",
     "text": [
      "       2024 Rushing Attempts  2024 Rushing Touchdowns  2024 Fumbles\n",
      "count             566.000000               566.000000    566.000000\n",
      "mean               25.934629                 0.902827      1.024735\n",
      "std                58.154396                 2.457301      1.957809\n",
      "min                 0.000000                 0.000000      0.000000\n",
      "25%                 0.000000                 0.000000      0.000000\n",
      "50%                 1.000000                 0.000000      0.000000\n",
      "75%                18.000000                 0.000000      1.000000\n",
      "max               345.000000                16.000000     13.000000\n"
     ]
    }
   ],
   "source": [
    "columns = [\n",
    "    '2024 Rushing Attempts', '2024 Rushing Touchdowns', '2024 Fumbles'\n",
    "]\n",
    "\n",
    "# Get descriptive statistics\n",
    "descriptive_stats = df[columns].describe()\n",
    "print(descriptive_stats)"
   ]
  },
  {
   "cell_type": "code",
   "execution_count": 35,
   "metadata": {},
   "outputs": [
    {
     "name": "stdout",
     "output_type": "stream",
     "text": [
      "       2024 Field Goals Attempted 0-39  2024 Field Goals Made 0-39  \\\n",
      "count                        61.000000                   61.000000   \n",
      "mean                          8.770492                    8.377049   \n",
      "std                           7.585938                    7.317021   \n",
      "min                           0.000000                    0.000000   \n",
      "25%                           0.000000                    0.000000   \n",
      "50%                          10.000000                    8.000000   \n",
      "75%                          15.000000                   14.000000   \n",
      "max                          21.000000                   21.000000   \n",
      "\n",
      "       2024 Field Goals Attempted 40-49  2024 Field Goals Made 40-49  \\\n",
      "count                         61.000000                    61.000000   \n",
      "mean                           4.934426                     3.786885   \n",
      "std                            4.182778                     3.411328   \n",
      "min                            0.000000                     0.000000   \n",
      "25%                            0.000000                     0.000000   \n",
      "50%                            5.000000                     4.000000   \n",
      "75%                            8.000000                     6.000000   \n",
      "max                           16.000000                    14.000000   \n",
      "\n",
      "       2024 Field Goals Made 50+  2024 Field Goals Made 50+  \\\n",
      "count                  61.000000                  61.000000   \n",
      "mean                    3.196721                   3.196721   \n",
      "std                     3.828924                   3.828924   \n",
      "min                     0.000000                   0.000000   \n",
      "25%                     0.000000                   0.000000   \n",
      "50%                     1.000000                   1.000000   \n",
      "75%                     6.000000                   6.000000   \n",
      "max                    14.000000                  14.000000   \n",
      "\n",
      "       2024 Field Goals Attempted  2024 Field Goals Made  \\\n",
      "count                   61.000000              61.000000   \n",
      "mean                    18.278689              15.360656   \n",
      "std                     15.368942              13.267797   \n",
      "min                      0.000000               0.000000   \n",
      "25%                      0.000000               0.000000   \n",
      "50%                     20.000000              16.000000   \n",
      "75%                     31.000000              26.000000   \n",
      "max                     47.000000              41.000000   \n",
      "\n",
      "       2024 Extra Points Attempted  2024 Extra Points Made  \n",
      "count                    61.000000               61.000000  \n",
      "mean                     20.344262               19.491803  \n",
      "std                      18.424517               17.691451  \n",
      "min                       0.000000                0.000000  \n",
      "25%                       0.000000                0.000000  \n",
      "50%                      19.000000               18.000000  \n",
      "75%                      33.000000               32.000000  \n",
      "max                      67.000000               64.000000  \n"
     ]
    }
   ],
   "source": [
    "columns = [\n",
    "    '2024 Field Goals Attempted 0-39', '2024 Field Goals Made 0-39', '2024 Field Goals Attempted 40-49', '2024 Field Goals Made 40-49', '2024 Field Goals Made 50+', '2024 Field Goals Made 50+', '2024 Field Goals Attempted', '2024 Field Goals Made', '2024 Extra Points Attempted', '2024 Extra Points Made'\n",
    "]\n",
    "\n",
    "# Get descriptive statistics\n",
    "descriptive_stats = df[columns].describe()\n",
    "print(descriptive_stats)"
   ]
  },
  {
   "cell_type": "code",
   "execution_count": 36,
   "metadata": {},
   "outputs": [
    {
     "name": "stdout",
     "output_type": "stream",
     "text": [
      "       2023 Field Goals Attempted 0-39  2023 Field Goals Made 0-39  \\\n",
      "count                        58.000000                   58.000000   \n",
      "mean                          9.568966                    9.206897   \n",
      "std                           8.547313                    8.256329   \n",
      "min                           0.000000                    0.000000   \n",
      "25%                           0.000000                    0.000000   \n",
      "50%                          11.000000                   10.000000   \n",
      "75%                          17.000000                   16.000000   \n",
      "max                          24.000000                   23.000000   \n",
      "\n",
      "       2023 Field Goals Attempted 40-49  2023 Field Goals Made 40-49  \\\n",
      "count                         58.000000                    58.000000   \n",
      "mean                           4.741379                     3.775862   \n",
      "std                            4.567468                     3.884486   \n",
      "min                            0.000000                     0.000000   \n",
      "25%                            0.000000                     0.000000   \n",
      "50%                            4.500000                     2.500000   \n",
      "75%                            8.750000                     7.000000   \n",
      "max                           14.000000                    13.000000   \n",
      "\n",
      "       2023 Field Goals Made 50+  2023 Field Goals Made 50+  \\\n",
      "count                  58.000000                  58.000000   \n",
      "mean                    2.724138                   2.724138   \n",
      "std                     2.930739                   2.930739   \n",
      "min                     0.000000                   0.000000   \n",
      "25%                     0.000000                   0.000000   \n",
      "50%                     2.000000                   2.000000   \n",
      "75%                     5.000000                   5.000000   \n",
      "max                    10.000000                  10.000000   \n",
      "\n",
      "       2023 Field Goals Attempted  2023 Field Goals Made  \\\n",
      "count                   58.000000              58.000000   \n",
      "mean                    18.275862              15.706897   \n",
      "std                     15.803390              13.930918   \n",
      "min                      0.000000               0.000000   \n",
      "25%                      0.000000               0.000000   \n",
      "50%                     23.500000              16.500000   \n",
      "75%                     32.750000              29.000000   \n",
      "max                     42.000000              36.000000   \n",
      "\n",
      "       2023 Extra Points Attempted  2023 Extra Points Made  \n",
      "count                    58.000000               58.000000  \n",
      "mean                     20.155172               19.327586  \n",
      "std                      18.796978               18.276039  \n",
      "min                       0.000000                0.000000  \n",
      "25%                       0.000000                0.000000  \n",
      "50%                      21.000000               18.000000  \n",
      "75%                      35.000000               33.750000  \n",
      "max                      61.000000               60.000000  \n"
     ]
    }
   ],
   "source": [
    "columns = [\n",
    "    '2023 Field Goals Attempted 0-39', '2023 Field Goals Made 0-39', '2023 Field Goals Attempted 40-49', '2023 Field Goals Made 40-49', '2023 Field Goals Made 50+', '2023 Field Goals Made 50+', '2023 Field Goals Attempted', '2023 Field Goals Made', '2023 Extra Points Attempted', '2023 Extra Points Made'\n",
    "]\n",
    "\n",
    "# Get descriptive statistics\n",
    "descriptive_stats = df[columns].describe()\n",
    "print(descriptive_stats)"
   ]
  },
  {
   "cell_type": "code",
   "execution_count": 37,
   "metadata": {},
   "outputs": [
    {
     "name": "stdout",
     "output_type": "stream",
     "text": [
      "       2022 Field Goals Attempted 0-39  2022 Field Goals Made 0-39  \\\n",
      "count                        64.000000                    64.00000   \n",
      "mean                          8.296875                     7.84375   \n",
      "std                           7.889474                     7.54714   \n",
      "min                           0.000000                     0.00000   \n",
      "25%                           0.000000                     0.00000   \n",
      "50%                           8.500000                     8.00000   \n",
      "75%                          15.000000                    14.00000   \n",
      "max                          25.000000                    24.00000   \n",
      "\n",
      "       2022 Field Goals Attempted 40-49  2022 Field Goals Made 40-49  \\\n",
      "count                         64.000000                    64.000000   \n",
      "mean                           4.796875                     3.859375   \n",
      "std                            4.909271                     4.132209   \n",
      "min                            0.000000                     0.000000   \n",
      "25%                            0.000000                     0.000000   \n",
      "50%                            3.500000                     2.500000   \n",
      "75%                           10.000000                     7.000000   \n",
      "max                           14.000000                    13.000000   \n",
      "\n",
      "       2022 Field Goals Made 50+  2022 Field Goals Made 50+  \\\n",
      "count                  64.000000                  64.000000   \n",
      "mean                    2.406250                   2.406250   \n",
      "std                     3.063967                   3.063967   \n",
      "min                     0.000000                   0.000000   \n",
      "25%                     0.000000                   0.000000   \n",
      "50%                     1.000000                   1.000000   \n",
      "75%                     4.000000                   4.000000   \n",
      "max                    11.000000                  11.000000   \n",
      "\n",
      "       2022 Field Goals Attempted  2022 Field Goals Made  \\\n",
      "count                   64.000000              64.000000   \n",
      "mean                    16.593750              14.109375   \n",
      "std                     15.634434              13.397604   \n",
      "min                      0.000000               0.000000   \n",
      "25%                      0.000000               0.000000   \n",
      "50%                     19.000000              16.000000   \n",
      "75%                     32.000000              27.000000   \n",
      "max                     43.000000              37.000000   \n",
      "\n",
      "       2022 Extra Points Attempted  2022 Extra Points Made  \n",
      "count                    64.000000               64.000000  \n",
      "mean                     18.515625               17.531250  \n",
      "std                      17.959383               17.084262  \n",
      "min                       0.000000                0.000000  \n",
      "25%                       0.000000                0.000000  \n",
      "50%                      16.500000               16.000000  \n",
      "75%                      33.250000               32.250000  \n",
      "max                      53.000000               51.000000  \n"
     ]
    }
   ],
   "source": [
    "columns = [\n",
    "    '2022 Field Goals Attempted 0-39', '2022 Field Goals Made 0-39', '2022 Field Goals Attempted 40-49', '2022 Field Goals Made 40-49', '2022 Field Goals Made 50+', '2022 Field Goals Made 50+', '2022 Field Goals Attempted', '2022 Field Goals Made', '2022 Extra Points Attempted', '2022 Extra Points Made'\n",
    "]\n",
    "\n",
    "# Get descriptive statistics\n",
    "descriptive_stats = df[columns].describe()\n",
    "print(descriptive_stats)"
   ]
  },
  {
   "cell_type": "code",
   "execution_count": 41,
   "metadata": {},
   "outputs": [
    {
     "name": "stdout",
     "output_type": "stream",
     "text": [
      "       2024 Total Plays  2024 First Downs Allowed  \\\n",
      "count         32.000000                 32.000000   \n",
      "mean        1056.625000                335.312500   \n",
      "std           35.460792                 23.750637   \n",
      "min          999.000000                293.000000   \n",
      "25%         1032.750000                323.750000   \n",
      "50%         1051.500000                330.500000   \n",
      "75%         1068.000000                344.750000   \n",
      "max         1154.000000                417.000000   \n",
      "\n",
      "       2024 Passing Touchdowns Allowed  2024 Rushing Touchdowns Allowed  \n",
      "count                        32.000000                        32.000000  \n",
      "mean                         25.281250                        15.968750  \n",
      "std                           4.371715                         4.835917  \n",
      "min                          17.000000                         7.000000  \n",
      "25%                          22.750000                        12.000000  \n",
      "50%                          25.500000                        15.000000  \n",
      "75%                          28.000000                        20.000000  \n",
      "max                          35.000000                        25.000000  \n"
     ]
    }
   ],
   "source": [
    "columns = [\n",
    "    '2024 Total Plays', '2024 First Downs Allowed', '2024 Passing Touchdowns Allowed', '2024 Rushing Touchdowns Allowed'\n",
    "]\n",
    "\n",
    "# Get descriptive statistics\n",
    "descriptive_stats = df[columns].describe()\n",
    "print(descriptive_stats)"
   ]
  },
  {
   "cell_type": "code",
   "execution_count": 42,
   "metadata": {},
   "outputs": [
    {
     "name": "stdout",
     "output_type": "stream",
     "text": [
      "       2023 Total Plays  2023 First Downs Allowed  \\\n",
      "count          32.00000                 32.000000   \n",
      "mean         1072.84375                327.437500   \n",
      "std            35.44110                 25.637595   \n",
      "min          1004.00000                254.000000   \n",
      "25%          1051.75000                311.000000   \n",
      "50%          1078.50000                328.500000   \n",
      "75%          1092.00000                344.500000   \n",
      "max          1147.00000                380.000000   \n",
      "\n",
      "       2023 Passing Touchdowns Allowed  2023 Rushing Touchdowns Allowed  \n",
      "count                         32.00000                        32.000000  \n",
      "mean                          23.56250                        14.687500  \n",
      "std                            5.18022                         4.617201  \n",
      "min                           17.00000                         6.000000  \n",
      "25%                           20.00000                        11.000000  \n",
      "50%                           22.50000                        14.500000  \n",
      "75%                           26.25000                        15.500000  \n",
      "max                           39.00000                        25.000000  \n"
     ]
    }
   ],
   "source": [
    "columns = [\n",
    "    '2023 Total Plays', '2023 First Downs Allowed', '2023 Passing Touchdowns Allowed', '2023 Rushing Touchdowns Allowed'\n",
    "]\n",
    "\n",
    "# Get descriptive statistics\n",
    "descriptive_stats = df[columns].describe()\n",
    "print(descriptive_stats)"
   ]
  },
  {
   "cell_type": "code",
   "execution_count": 43,
   "metadata": {},
   "outputs": [
    {
     "name": "stdout",
     "output_type": "stream",
     "text": [
      "       2022 Total Plays  2022 First Downs Allowed  \\\n",
      "count         32.000000                 32.000000   \n",
      "mean        1066.750000                333.312500   \n",
      "std           39.615083                 23.669005   \n",
      "min          991.000000                286.000000   \n",
      "25%         1042.500000                317.000000   \n",
      "50%         1076.500000                330.000000   \n",
      "75%         1093.000000                350.250000   \n",
      "max         1134.000000                377.000000   \n",
      "\n",
      "       2022 Passing Touchdowns Allowed  2022 Rushing Touchdowns Allowed  \n",
      "count                        32.000000                        32.000000  \n",
      "mean                         23.437500                        15.218750  \n",
      "std                           4.287548                         5.528427  \n",
      "min                          15.000000                         7.000000  \n",
      "25%                          20.750000                        11.000000  \n",
      "50%                          23.000000                        14.500000  \n",
      "75%                          26.000000                        18.500000  \n",
      "max                          33.000000                        31.000000  \n"
     ]
    }
   ],
   "source": [
    "columns = [\n",
    "    '2022 Total Plays', '2022 First Downs Allowed', '2022 Passing Touchdowns Allowed', '2022 Rushing Touchdowns Allowed'\n",
    "]\n",
    "\n",
    "# Get descriptive statistics\n",
    "descriptive_stats = df[columns].describe()\n",
    "print(descriptive_stats)"
   ]
  },
  {
   "cell_type": "code",
   "execution_count": 44,
   "metadata": {},
   "outputs": [
    {
     "name": "stdout",
     "output_type": "stream",
     "text": [
      "       2022 Takeaways  2022 ST_Sacks  2022 ST_Interceptions  \\\n",
      "count       32.000000      32.000000              32.000000   \n",
      "mean        22.187500      40.500000              13.062500   \n",
      "std          4.855575       9.738517               3.800997   \n",
      "min         13.000000      20.000000               6.000000   \n",
      "25%         19.750000      35.750000              10.000000   \n",
      "50%         22.500000      40.000000              14.000000   \n",
      "75%         25.000000      44.250000              16.000000   \n",
      "max         33.000000      70.000000              20.000000   \n",
      "\n",
      "       2022 ST_Fumble Recoveries  2022 ST_Forced Fumbles  2022 ST_Safeties  \\\n",
      "count                  32.000000               32.000000         32.000000   \n",
      "mean                    9.125000               12.000000          0.406250   \n",
      "std                     2.756225                3.172462          0.614837   \n",
      "min                     3.000000                7.000000          0.000000   \n",
      "25%                     7.000000               10.000000          0.000000   \n",
      "50%                     9.500000               11.000000          0.000000   \n",
      "75%                    11.000000               14.000000          1.000000   \n",
      "max                    17.000000               21.000000          2.000000   \n",
      "\n",
      "       2022 ST_Special Teams Touchdowns  \n",
      "count                          32.00000  \n",
      "mean                            2.28125  \n",
      "std                             1.59099  \n",
      "min                             0.00000  \n",
      "25%                             1.00000  \n",
      "50%                             2.00000  \n",
      "75%                             3.00000  \n",
      "max                             8.00000  \n"
     ]
    }
   ],
   "source": [
    "columns = [\n",
    "    '2022 Takeaways', '2022 ST_Sacks', '2022 ST_Interceptions', '2022 ST_Fumble Recoveries', '2022 ST_Forced Fumbles', '2022 ST_Safeties', '2022 ST_Special Teams Touchdowns',\n",
    "]\n",
    "\n",
    "# Get descriptive statistics\n",
    "descriptive_stats = df[columns].describe()\n",
    "print(descriptive_stats)"
   ]
  },
  {
   "cell_type": "code",
   "execution_count": 45,
   "metadata": {},
   "outputs": [
    {
     "name": "stdout",
     "output_type": "stream",
     "text": [
      "       2023 Takeaways  2023 ST_Sacks  2023 ST_Interceptions  \\\n",
      "count       32.000000      32.000000              32.000000   \n",
      "mean        22.937500      44.062500              13.437500   \n",
      "std          5.453247       7.573032               4.457234   \n",
      "min         11.000000      27.000000               6.000000   \n",
      "25%         18.000000      40.750000               9.750000   \n",
      "50%         24.000000      45.000000              13.500000   \n",
      "75%         27.000000      48.000000              17.000000   \n",
      "max         31.000000      60.000000              22.000000   \n",
      "\n",
      "       2023 ST_Fumble Recoveries  2023 ST_Forced Fumbles  2023 ST_Safeties  \\\n",
      "count                  32.000000               32.000000         32.000000   \n",
      "mean                    9.406250               12.625000          0.531250   \n",
      "std                     2.637929                3.713532          0.717719   \n",
      "min                     3.000000                4.000000          0.000000   \n",
      "25%                     8.000000               10.750000          0.000000   \n",
      "50%                     9.500000               13.000000          0.000000   \n",
      "75%                    11.000000               14.250000          1.000000   \n",
      "max                    15.000000               21.000000          3.000000   \n",
      "\n",
      "       2023 ST_Special Teams Touchdowns  \n",
      "count                         32.000000  \n",
      "mean                           2.406250  \n",
      "std                            1.521022  \n",
      "min                            0.000000  \n",
      "25%                            1.000000  \n",
      "50%                            2.000000  \n",
      "75%                            3.000000  \n",
      "max                            7.000000  \n"
     ]
    }
   ],
   "source": [
    "columns = [\n",
    "    '2023 Takeaways', '2023 ST_Sacks', '2023 ST_Interceptions', '2023 ST_Fumble Recoveries', '2023 ST_Forced Fumbles', '2023 ST_Safeties', '2023 ST_Special Teams Touchdowns',\n",
    "]\n",
    "\n",
    "# Get descriptive statistics\n",
    "descriptive_stats = df[columns].describe()\n",
    "print(descriptive_stats)"
   ]
  },
  {
   "cell_type": "code",
   "execution_count": 46,
   "metadata": {},
   "outputs": [
    {
     "name": "stdout",
     "output_type": "stream",
     "text": [
      "       2024 Takeaways  2024 ST_Sacks  2024 ST_Interceptions  \\\n",
      "count       32.000000      32.000000              32.000000   \n",
      "mean        20.562500      41.062500              12.093750   \n",
      "std          6.324237       7.268747               4.416679   \n",
      "min          9.000000      28.000000               4.000000   \n",
      "25%         17.000000      36.750000               9.000000   \n",
      "50%         18.000000      40.000000              12.500000   \n",
      "75%         25.000000      45.000000              15.000000   \n",
      "max         33.000000      63.000000              24.000000   \n",
      "\n",
      "       2024 ST_Fumble Recoveries  2024 ST_Forced Fumbles  2024 ST_Safeties  \\\n",
      "count                  32.000000               32.000000         32.000000   \n",
      "mean                    8.375000               12.156250          0.468750   \n",
      "std                     3.424296                3.418256          0.671271   \n",
      "min                     3.000000                5.000000          0.000000   \n",
      "25%                     6.000000               10.000000          0.000000   \n",
      "50%                     8.000000               12.000000          0.000000   \n",
      "75%                    10.000000               15.000000          1.000000   \n",
      "max                    16.000000               18.000000          2.000000   \n",
      "\n",
      "       2024 ST_Special Teams Touchdowns  \n",
      "count                         32.000000  \n",
      "mean                           2.000000  \n",
      "std                            1.367833  \n",
      "min                            0.000000  \n",
      "25%                            1.000000  \n",
      "50%                            2.000000  \n",
      "75%                            3.000000  \n",
      "max                            5.000000  \n"
     ]
    }
   ],
   "source": [
    "columns = [\n",
    "    '2024 Takeaways', '2024 ST_Sacks', '2024 ST_Interceptions', '2024 ST_Fumble Recoveries', '2024 ST_Forced Fumbles', '2024 ST_Safeties', '2024 ST_Special Teams Touchdowns',\n",
    "]\n",
    "\n",
    "# Get descriptive statistics\n",
    "descriptive_stats = df[columns].describe()\n",
    "print(descriptive_stats)"
   ]
  },
  {
   "cell_type": "code",
   "execution_count": 47,
   "metadata": {},
   "outputs": [
    {
     "name": "stdout",
     "output_type": "stream",
     "text": [
      "       2024 Passing Yards  2024 Rushing Yards  2024 Receiving Yards\n",
      "count          107.000000          566.000000            566.000000\n",
      "mean          1187.140187          115.077739            224.226148\n",
      "std           1510.332185          271.626392            305.854668\n",
      "min              0.000000           -7.000000             -5.000000\n",
      "25%             17.000000            0.000000              7.000000\n",
      "50%            276.000000            2.000000             80.000000\n",
      "75%           2080.500000           70.000000            342.000000\n",
      "max           4918.000000         2005.000000           1708.000000\n"
     ]
    }
   ],
   "source": [
    "columns = [\n",
    "    '2024 Passing Yards', '2024 Rushing Yards', '2024 Receiving Yards'\n",
    "]\n",
    "\n",
    "# Get descriptive statistics\n",
    "descriptive_stats = df[columns].describe()\n",
    "print(descriptive_stats)"
   ]
  },
  {
   "cell_type": "code",
   "execution_count": 48,
   "metadata": {},
   "outputs": [
    {
     "name": "stdout",
     "output_type": "stream",
     "text": [
      "       2023 Passing Yards  2023 Rushing Yards  2023 Receiving Yards\n",
      "count          114.000000          561.000000            561.000000\n",
      "mean          1127.508772          109.167558            228.985740\n",
      "std           1480.065188          241.652666            319.657752\n",
      "min             -7.000000          -23.000000            -10.000000\n",
      "25%             11.250000            0.000000             10.000000\n",
      "50%            277.500000            4.000000             93.000000\n",
      "75%           2036.500000           74.000000            313.000000\n",
      "max           4624.000000         1459.000000           1799.000000\n"
     ]
    }
   ],
   "source": [
    "columns = [\n",
    "    '2023 Passing Yards', '2023 Rushing Yards', '2023 Receiving Yards'\n",
    "]\n",
    "\n",
    "# Get descriptive statistics\n",
    "descriptive_stats = df[columns].describe()\n",
    "print(descriptive_stats)"
   ]
  },
  {
   "cell_type": "code",
   "execution_count": 49,
   "metadata": {},
   "outputs": [
    {
     "name": "stdout",
     "output_type": "stream",
     "text": [
      "       2022 Passing Yards  2022 Rushing Yards  2022 Receiving Yards\n",
      "count          113.000000          586.000000            586.000000\n",
      "mean          1124.203540          112.313993            216.598976\n",
      "std           1473.904037          259.748426            302.625160\n",
      "min              0.000000          -18.000000            -10.000000\n",
      "25%             17.000000            0.000000              9.000000\n",
      "50%            390.000000            5.000000             90.000000\n",
      "75%           2163.000000           70.000000            308.750000\n",
      "max           5250.000000         1653.000000           1809.000000\n"
     ]
    }
   ],
   "source": [
    "columns = [\n",
    "    '2022 Passing Yards', '2022 Rushing Yards', '2022 Receiving Yards'\n",
    "]\n",
    "\n",
    "# Get descriptive statistics\n",
    "descriptive_stats = df[columns].describe()\n",
    "print(descriptive_stats)"
   ]
  },
  {
   "cell_type": "code",
   "execution_count": 50,
   "metadata": {},
   "outputs": [
    {
     "name": "stdout",
     "output_type": "stream",
     "text": [
      "       2022 Passing Yards Allowed  2022 Rushing Yards Allowed  \\\n",
      "count                   32.000000                   32.000000   \n",
      "mean                  3701.187500                 2059.187500   \n",
      "std                    370.259929                  361.000441   \n",
      "min                   3057.000000                 1307.000000   \n",
      "25%                   3428.500000                 1834.250000   \n",
      "50%                   3673.000000                 2068.000000   \n",
      "75%                   3921.750000                 2237.250000   \n",
      "max                   4671.000000                 2894.000000   \n",
      "\n",
      "       2022 Penalty Yards  \n",
      "count           32.000000  \n",
      "mean           780.500000  \n",
      "std             75.881487  \n",
      "min            647.000000  \n",
      "25%            716.250000  \n",
      "50%            785.500000  \n",
      "75%            832.000000  \n",
      "max            926.000000  \n"
     ]
    }
   ],
   "source": [
    "columns = [\n",
    "    '2022 Passing Yards Allowed', '2022 Rushing Yards Allowed', '2022 Penalty Yards'\n",
    "]\n",
    "\n",
    "# Get descriptive statistics\n",
    "descriptive_stats = df[columns].describe()\n",
    "print(descriptive_stats)"
   ]
  },
  {
   "cell_type": "code",
   "execution_count": 51,
   "metadata": {},
   "outputs": [
    {
     "name": "stdout",
     "output_type": "stream",
     "text": [
      "       2023 Passing Yards  2023 Rushing Yards  2023 Receiving Yards\n",
      "count          114.000000          561.000000            561.000000\n",
      "mean          1127.508772          109.167558            228.985740\n",
      "std           1480.065188          241.652666            319.657752\n",
      "min             -7.000000          -23.000000            -10.000000\n",
      "25%             11.250000            0.000000             10.000000\n",
      "50%            277.500000            4.000000             93.000000\n",
      "75%           2036.500000           74.000000            313.000000\n",
      "max           4624.000000         1459.000000           1799.000000\n"
     ]
    }
   ],
   "source": [
    "columns = [\n",
    "    '2023 Passing Yards', '2023 Rushing Yards', '2023 Receiving Yards'\n",
    "]\n",
    "\n",
    "# Get descriptive statistics\n",
    "descriptive_stats = df[columns].describe()\n",
    "print(descriptive_stats)"
   ]
  },
  {
   "cell_type": "code",
   "execution_count": 52,
   "metadata": {},
   "outputs": [
    {
     "name": "stdout",
     "output_type": "stream",
     "text": [
      "       2024 Passing Yards  2024 Rushing Yards  2024 Receiving Yards\n",
      "count          107.000000          566.000000            566.000000\n",
      "mean          1187.140187          115.077739            224.226148\n",
      "std           1510.332185          271.626392            305.854668\n",
      "min              0.000000           -7.000000             -5.000000\n",
      "25%             17.000000            0.000000              7.000000\n",
      "50%            276.000000            2.000000             80.000000\n",
      "75%           2080.500000           70.000000            342.000000\n",
      "max           4918.000000         2005.000000           1708.000000\n"
     ]
    }
   ],
   "source": [
    "columns = [\n",
    "    '2024 Passing Yards', '2024 Rushing Yards', '2024 Receiving Yards'\n",
    "]\n",
    "\n",
    "# Get descriptive statistics\n",
    "descriptive_stats = df[columns].describe()\n",
    "print(descriptive_stats)"
   ]
  },
  {
   "cell_type": "code",
   "execution_count": 54,
   "metadata": {},
   "outputs": [
    {
     "name": "stdout",
     "output_type": "stream",
     "text": [
      "       2022 Percent Drives Scored On  2022 Percent Drives Takeaway\n",
      "count                      32.000000                     32.000000\n",
      "mean                       36.275000                     11.381250\n",
      "std                         3.958331                      2.521832\n",
      "min                        25.700000                      7.100000\n",
      "25%                        33.800000                     10.150000\n",
      "50%                        36.050000                     11.550000\n",
      "75%                        38.825000                     13.300000\n",
      "max                        43.500000                     16.200000\n"
     ]
    }
   ],
   "source": [
    "columns = [\n",
    "    '2022 Percent Drives Scored On', '2022 Percent Drives Takeaway'\n",
    "]\n",
    "\n",
    "# Get descriptive statistics\n",
    "descriptive_stats = df[columns].describe()\n",
    "print(descriptive_stats)"
   ]
  },
  {
   "cell_type": "code",
   "execution_count": 55,
   "metadata": {},
   "outputs": [
    {
     "name": "stdout",
     "output_type": "stream",
     "text": [
      "       2023 Percent Drives Scored On  2023 Percent Drives Takeaway\n",
      "count                      32.000000                     32.000000\n",
      "mean                       35.593750                     11.568750\n",
      "std                         4.759231                      2.721176\n",
      "min                        24.800000                      5.500000\n",
      "25%                        32.075000                      9.650000\n",
      "50%                        34.950000                     11.750000\n",
      "75%                        38.550000                     14.125000\n",
      "max                        46.800000                     16.000000\n"
     ]
    }
   ],
   "source": [
    "columns = [\n",
    "    '2023 Percent Drives Scored On', '2023 Percent Drives Takeaway'\n",
    "]\n",
    "\n",
    "# Get descriptive statistics\n",
    "descriptive_stats = df[columns].describe()\n",
    "print(descriptive_stats)"
   ]
  },
  {
   "cell_type": "code",
   "execution_count": 56,
   "metadata": {},
   "outputs": [
    {
     "name": "stdout",
     "output_type": "stream",
     "text": [
      "       2024 Percent Drives Scored On  2024 Percent Drives Takeaway\n",
      "count                      32.000000                     32.000000\n",
      "mean                       38.846875                     10.696875\n",
      "std                         4.856388                      3.271429\n",
      "min                        31.600000                      4.400000\n",
      "25%                        35.050000                      8.775000\n",
      "50%                        39.000000                      9.700000\n",
      "75%                        42.825000                     12.850000\n",
      "max                        51.400000                     17.500000\n"
     ]
    }
   ],
   "source": [
    "columns = [\n",
    "    '2024 Percent Drives Scored On', '2024 Percent Drives Takeaway'\n",
    "]\n",
    "\n",
    "# Get descriptive statistics\n",
    "descriptive_stats = df[columns].describe()\n",
    "print(descriptive_stats)"
   ]
  },
  {
   "cell_type": "code",
   "execution_count": 58,
   "metadata": {},
   "outputs": [
    {
     "name": "stdout",
     "output_type": "stream",
     "text": [
      "       2024 Fantasy Points From Points  2024 PPR Fantasy Points Scored  \\\n",
      "count                        32.000000                      663.000000   \n",
      "mean                          2.312500                       79.342413   \n",
      "std                          10.399868                       84.473830   \n",
      "min                         -26.000000                       -8.700000   \n",
      "25%                          -6.000000                       10.500000   \n",
      "50%                           2.000000                       51.800000   \n",
      "75%                           9.250000                      123.000000   \n",
      "max                          21.000000                      420.380000   \n",
      "\n",
      "       2024 Standard Fantasy Points Scored  \n",
      "count                           663.000000  \n",
      "mean                             61.826576  \n",
      "std                              71.585064  \n",
      "min                              -9.700000  \n",
      "25%                               5.300000  \n",
      "50%                              35.800000  \n",
      "75%                              96.900000  \n",
      "max                             420.380000  \n"
     ]
    }
   ],
   "source": [
    "columns = [\n",
    "    '2024 Fantasy Points From Points', '2024 PPR Fantasy Points Scored', '2024 Standard Fantasy Points Scored'\n",
    "]\n",
    "\n",
    "\n",
    "# Get descriptive statistics\n",
    "descriptive_stats = df[columns].describe()\n",
    "print(descriptive_stats)"
   ]
  },
  {
   "cell_type": "code",
   "execution_count": 59,
   "metadata": {},
   "outputs": [
    {
     "name": "stdout",
     "output_type": "stream",
     "text": [
      "       2023 Fantasy Points From Points  2023 PPR Fantasy Points Scored  \\\n",
      "count                        32.000000                      653.000000   \n",
      "mean                          6.250000                       79.612956   \n",
      "std                           9.466409                       82.510807   \n",
      "min                         -20.000000                       -4.200000   \n",
      "25%                           0.750000                       11.960000   \n",
      "50%                           5.500000                       50.300000   \n",
      "75%                          12.250000                      126.800000   \n",
      "max                          26.000000                      399.200000   \n",
      "\n",
      "       2023 Standard Fantasy Points Scored  \n",
      "count                           653.000000  \n",
      "mean                             61.551700  \n",
      "std                              68.763344  \n",
      "min                              -4.200000  \n",
      "25%                               7.700000  \n",
      "50%                              33.900000  \n",
      "75%                             103.380000  \n",
      "max                             380.640000  \n"
     ]
    }
   ],
   "source": [
    "columns = [\n",
    "    '2023 Fantasy Points From Points', '2023 PPR Fantasy Points Scored', '2023 Standard Fantasy Points Scored'\n",
    "]\n",
    "\n",
    "\n",
    "# Get descriptive statistics\n",
    "descriptive_stats = df[columns].describe()\n",
    "print(descriptive_stats)"
   ]
  },
  {
   "cell_type": "code",
   "execution_count": 60,
   "metadata": {},
   "outputs": [
    {
     "name": "stdout",
     "output_type": "stream",
     "text": [
      "       2022 Fantasy Points From Points  2022 PPR Fantasy Points Scored  \\\n",
      "count                        32.000000                      686.000000   \n",
      "mean                          5.281250                       75.548805   \n",
      "std                           8.666712                       80.295509   \n",
      "min                         -12.000000                       -5.000000   \n",
      "25%                          -1.250000                       10.000000   \n",
      "50%                           5.500000                       47.450000   \n",
      "75%                          12.000000                      115.075000   \n",
      "max                          27.000000                      403.400000   \n",
      "\n",
      "       2022 Standard Fantasy Points Scored  \n",
      "count                           686.000000  \n",
      "mean                             58.643557  \n",
      "std                              67.284092  \n",
      "min                              -6.800000  \n",
      "25%                               6.800000  \n",
      "50%                              33.100000  \n",
      "75%                              94.000000  \n",
      "max                             402.400000  \n"
     ]
    }
   ],
   "source": [
    "columns = [\n",
    "    '2022 Fantasy Points From Points', '2022 PPR Fantasy Points Scored', '2022 Standard Fantasy Points Scored'\n",
    "]\n",
    "\n",
    "\n",
    "# Get descriptive statistics\n",
    "descriptive_stats = df[columns].describe()\n",
    "print(descriptive_stats)"
   ]
  }
 ],
 "metadata": {
  "kernelspec": {
   "display_name": "base",
   "language": "python",
   "name": "python3"
  },
  "language_info": {
   "codemirror_mode": {
    "name": "ipython",
    "version": 3
   },
   "file_extension": ".py",
   "mimetype": "text/x-python",
   "name": "python",
   "nbconvert_exporter": "python",
   "pygments_lexer": "ipython3",
   "version": "3.12.2"
  }
 },
 "nbformat": 4,
 "nbformat_minor": 2
}
